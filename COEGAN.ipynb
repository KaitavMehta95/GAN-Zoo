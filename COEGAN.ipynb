{
 "cells": [
  {
   "cell_type": "code",
   "execution_count": 97,
   "metadata": {},
   "outputs": [],
   "source": [
    "import torch\n",
    "import torch.nn as nn"
   ]
  },
  {
   "cell_type": "code",
   "execution_count": 137,
   "metadata": {},
   "outputs": [],
   "source": [
    "class Generator(nn.Module):\n",
    "    def __init__(self, ngpu):\n",
    "        super(Generator, self).__init__()\n",
    "        ip = 100\n",
    "    \n",
    "\n",
    "        model = [nn.Linear(ip,64),\n",
    "                     nn.LeakyReLU(0.2),\n",
    "                      nn.Linear(64,784),\n",
    "                      nn.ReLU(inplace=True)]\n",
    "        self.model = torch.nn.Sequential(*model)        \n",
    "        dmodel = [nn.ConvTranspose2d(4,32, 5, 1,1,bias=False),\n",
    "                       nn.LeakyReLU(0.2),\n",
    "                       nn.ConvTranspose2d(32,1, 5, 2,bias=False),\n",
    "                       nn.Tanh()]\n",
    "        self.dmodel = torch.nn.Sequential(*dmodel) \n",
    "\n",
    "    def forward(self, input):\n",
    "        \n",
    "        input = self.model(input)\n",
    "        input = input.view(64, 4, 14, 14)\n",
    "        input = self.dmodel(input)\n",
    "        return input"
   ]
  },
  {
   "cell_type": "code",
   "execution_count": 138,
   "metadata": {},
   "outputs": [],
   "source": [
    "class Discriminator(nn.Module):\n",
    "    def __init__(self, ngpu):\n",
    "        super(Discriminator, self).__init__()\n",
    "        \n",
    "        conv = [nn.Conv2d(1,16,5,2), nn.LeakyReLU(0.2),nn.Conv2d(16,128,5,2), nn.LeakyReLU(0.2)]\n",
    "        self.conv = torch.nn.Sequential(*conv)        \n",
    "        model = [nn.Linear(4608,64),nn.ReLU(),\n",
    "                nn.Linear(64,64),nn.Sigmoid(),\n",
    "                nn.Linear(64,1),nn.Sigmoid()]\n",
    "        self.model = torch.nn.Sequential(*model) \n",
    "\n",
    "    def forward(self, input):\n",
    "        \n",
    "        input = self.conv(input)\n",
    "        input = input.view(-1,4608)\n",
    "        input = self.model(input)\n",
    "        return input"
   ]
  },
  {
   "cell_type": "code",
   "execution_count": 139,
   "metadata": {},
   "outputs": [],
   "source": [
    "# custom weights initialization called on netG and netD\n",
    "def weights_init(m):\n",
    "    classname = m.__class__.__name__\n",
    "    if hasattr(m, 'weight') and classname.find('Conv') != -1:\n",
    "        nn.init.normal_(m.weight.data, 0.0, 0.02)\n",
    "    elif classname.find('BatchNorm') != -1:\n",
    "        nn.init.normal_(m.weight.data, 1.0, 0.02)\n",
    "        nn.init.constant_(m.bias.data, 0)"
   ]
  },
  {
   "cell_type": "code",
   "execution_count": 140,
   "metadata": {},
   "outputs": [
    {
     "name": "stdout",
     "output_type": "stream",
     "text": [
      "Generator(\n",
      "  (model): Sequential(\n",
      "    (0): Linear(in_features=100, out_features=64, bias=True)\n",
      "    (1): LeakyReLU(negative_slope=0.2)\n",
      "    (2): Linear(in_features=64, out_features=784, bias=True)\n",
      "    (3): ReLU(inplace)\n",
      "  )\n",
      "  (dmodel): Sequential(\n",
      "    (0): ConvTranspose2d(4, 32, kernel_size=(5, 5), stride=(1, 1), padding=(1, 1), bias=False)\n",
      "    (1): LeakyReLU(negative_slope=0.2)\n",
      "    (2): ConvTranspose2d(32, 1, kernel_size=(5, 5), stride=(2, 2), bias=False)\n",
      "    (3): Tanh()\n",
      "  )\n",
      ")\n"
     ]
    }
   ],
   "source": [
    "netG = Generator(0)\n",
    "netG.apply(weights_init)\n",
    "print(netG)"
   ]
  },
  {
   "cell_type": "code",
   "execution_count": 141,
   "metadata": {},
   "outputs": [
    {
     "name": "stdout",
     "output_type": "stream",
     "text": [
      "Discriminator(\n",
      "  (conv): Sequential(\n",
      "    (0): Conv2d(1, 16, kernel_size=(5, 5), stride=(2, 2))\n",
      "    (1): LeakyReLU(negative_slope=0.2)\n",
      "    (2): Conv2d(16, 128, kernel_size=(5, 5), stride=(2, 2))\n",
      "    (3): LeakyReLU(negative_slope=0.2)\n",
      "  )\n",
      "  (model): Sequential(\n",
      "    (0): Linear(in_features=4608, out_features=64, bias=True)\n",
      "    (1): ReLU()\n",
      "    (2): Linear(in_features=64, out_features=64, bias=True)\n",
      "    (3): Sigmoid()\n",
      "    (4): Linear(in_features=64, out_features=1, bias=True)\n",
      "    (5): Sigmoid()\n",
      "  )\n",
      ")\n"
     ]
    }
   ],
   "source": [
    "netD = Discriminator(0)\n",
    "netD.apply(weights_init)\n",
    "print(netD)"
   ]
  },
  {
   "cell_type": "code",
   "execution_count": 143,
   "metadata": {},
   "outputs": [
    {
     "name": "stdout",
     "output_type": "stream",
     "text": [
      "torch.Size([64, 100])\n",
      "torch.Size([64, 1, 35, 35])\n",
      "torch.Size([64, 1])\n"
     ]
    }
   ],
   "source": [
    "from torch.autograd.variable import Variable\n",
    "def noise(size):\n",
    "    '''\n",
    "    Generates a 1-d vector of gaussian sampled random values\n",
    "    '''\n",
    "    n = Variable(torch.randn(size, 100))\n",
    "    return n\n",
    "\n",
    "n = noise(64)\n",
    "print(n.shape)\n",
    "fake = netG(n)\n",
    "print(fake.shape)\n",
    "output = netD(fake)\n",
    "print(output.shape)"
   ]
  },
  {
   "cell_type": "code",
   "execution_count": 32,
   "metadata": {},
   "outputs": [],
   "source": [
    "class Generator(nn.Module):\n",
    "    def __init__(self, ngpu):\n",
    "        super(Generator, self).__init__()\n",
    "        \n",
    "        \n",
    "       \n",
    "        model=[]\n",
    "        model += [nn.ConvTranspose2d(4,64, 3, 1,bias=False),nn.ReLU(inplace=True)]\n",
    "        model += [nn.ConvTranspose2d(64,1, 3, 2,bias=False),nn.Tanh()]\n",
    "        self.main = torch.nn.Sequential(*model)\n",
    "\n",
    "    def forward(self, input):\n",
    "        return self.main(input)\n",
    "\n",
    "netg = Generator(1)\n",
    "noise = torch.randn(64, 4, 1, 1)\n",
    "\n",
    "fake = netg(noise)"
   ]
  }
 ],
 "metadata": {
  "kernelspec": {
   "display_name": "Python 3",
   "language": "python",
   "name": "python3"
  },
  "language_info": {
   "codemirror_mode": {
    "name": "ipython",
    "version": 3
   },
   "file_extension": ".py",
   "mimetype": "text/x-python",
   "name": "python",
   "nbconvert_exporter": "python",
   "pygments_lexer": "ipython3",
   "version": "3.6.8"
  }
 },
 "nbformat": 4,
 "nbformat_minor": 2
}
